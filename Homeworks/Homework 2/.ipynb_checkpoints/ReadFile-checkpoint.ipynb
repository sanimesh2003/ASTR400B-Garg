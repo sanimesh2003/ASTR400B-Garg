{
 "cells": [
  {
   "cell_type": "code",
   "execution_count": 9,
   "id": "eb870281-c483-48d0-80fb-fe77207b076d",
   "metadata": {},
   "outputs": [],
   "source": [
    "# imports of the libraries that i may need for this\n",
    "import numpy as np\n",
    "import astropy.units as u"
   ]
  },
  {
   "cell_type": "code",
   "execution_count": 10,
   "id": "893263c4-4cfe-4a8b-b81f-411c3049db9a",
   "metadata": {},
   "outputs": [
    {
     "name": "stdout",
     "output_type": "stream",
     "text": [
      "Time: 0.0 Myr\n",
      "Total Particles: 135000\n",
      "Particle Type of Second Entry: 1.0\n",
      "Mass of First Particle: 0.00394985\n"
     ]
    }
   ],
   "source": [
    "\"\"\"\n",
    "ReadFile.py\n",
    "This script contains the `Read` function to read the MW_000.txt data file.\n",
    "It extracts the time, total number of particles, and particle data for further analysis.\n",
    "\"\"\"\n",
    "\n",
    "# Define the `Read` function\n",
    "def Read(filename):\n",
    "    \"\"\"\n",
    "    Function to read the MW_000.txt data file.\n",
    "    \n",
    "    Parameters:\n",
    "        filename (str): Path to the data file.\n",
    "\n",
    "    Returns:\n",
    "        time (astropy.units.Quantity): Time in Myr from the first row of the file.\n",
    "        total_particles (int): Total number of particles from the second row of the file.\n",
    "        data (structured ndarray): Particle data as a structured array with columns 'type', \n",
    "                                   'm', 'x', 'y', 'z', 'vx', 'vy', 'vz'.\n",
    "    \"\"\"\n",
    "    # Open the file in read mode\n",
    "    file = open(filename, 'r')  # `file` is the file object for reading the data\n",
    "    \n",
    "    # Read the first line from the file to extract the time in Myr\n",
    "    line1 = file.readline()  # Read the first line containing the time\n",
    "    label, value = line1.split()  # Split the line into label (description) and value\n",
    "    time = float(value) * u.Myr  # Convert the value to float and assign units of Myr (Mega years)\n",
    "    \"\"\"\n",
    "    The first line of the file contains the time in Myr. \n",
    "    For example: 'time 0.0' -> label = 'time', value = '0.0'.\n",
    "    \"\"\"\n",
    "\n",
    "    # Read the second line from the file to extract the total number of particles\n",
    "    line2 = file.readline()  # Read the second line containing the total particle count\n",
    "    label, value = line2.split()  # Split the line into label (description) and value\n",
    "    total_particles = int(value)  # Convert the value to an integer\n",
    "    \"\"\"\n",
    "    The second line of the file contains the total number of particles. \n",
    "    For example: 'particles 10000' -> label = 'particles', value = '10000'.\n",
    "    \"\"\"\n",
    "    \n",
    "    file.close() # Close the file to release resources\n",
    "    \n",
    "    # Use NumPy's `genfromtxt` to read the remaining data from the file\n",
    "    data = np.genfromtxt(\n",
    "        filename,  # Path to the file\n",
    "        dtype=None,  # Automatically determine the data type of each column\n",
    "        names=True,  # Use column headers from the file as structured array labels\n",
    "        skip_header=3  # Skip the first three lines (time, total particles, and header row)\n",
    "    )\n",
    "    \"\"\"\n",
    "    The `genfromtxt` function reads the structured data from the file.\n",
    "    Parameters:\n",
    "        - `dtype=None`: Automatically detects the column data types.\n",
    "        - `names=True`: Assigns column labels based on the header row (e.g., 'type', 'm', etc.).\n",
    "        - `skip_header=3`: Skips the first 3 lines (time, particles, and header row).\n",
    "    \"\"\"\n",
    "    \n",
    "    # Return the extracted values\n",
    "    return time, total_particles, data  # Outputs include time, total_particles, and particle data array\n",
    "\n",
    "# Testing the function\n",
    "if __name__ == \"__main__\":\n",
    "    \"\"\"\n",
    "    This block tests the `Read` function to ensure it works correctly.\n",
    "    Replace `MW_000.txt` with the path to your actual data file.\n",
    "    \"\"\"\n",
    "    filename = \"MW_000.txt\"\n",
    "    \n",
    "    # Call the `Read` function to extract data\n",
    "    time, total_particles, data = Read(filename)\n",
    "    \n",
    "    # Print the extracted values for verification\n",
    "    print(\"Time:\", time)  # Print the time in Myr\n",
    "    print(\"Total Particles:\", total_particles)  # Print the total number of particles\n",
    "    print(\"Particle Type of Second Entry:\", data['type'][1])  # Print the type of the 2nd particle (index 1)\n",
    "    print(\"Mass of First Particle:\", data['m'][0])  # Print the mass of the 1st particle (index 0)\n"
   ]
  },
  {
   "cell_type": "code",
   "execution_count": null,
   "id": "789a6de5-ba80-4845-a35e-5541c96526d1",
   "metadata": {},
   "outputs": [],
   "source": []
  }
 ],
 "metadata": {
  "kernelspec": {
   "display_name": "Python 3 (ipykernel)",
   "language": "python",
   "name": "python3"
  },
  "language_info": {
   "codemirror_mode": {
    "name": "ipython",
    "version": 3
   },
   "file_extension": ".py",
   "mimetype": "text/x-python",
   "name": "python",
   "nbconvert_exporter": "python",
   "pygments_lexer": "ipython3",
   "version": "3.13.1"
  }
 },
 "nbformat": 4,
 "nbformat_minor": 5
}
