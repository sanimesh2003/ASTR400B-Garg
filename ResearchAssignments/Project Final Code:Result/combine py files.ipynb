{
 "cells": [
  {
   "cell_type": "code",
   "execution_count": 1,
   "id": "956b746b-5648-4b8f-aac8-2ba028f0b80e",
   "metadata": {},
   "outputs": [
    {
     "name": "stdout",
     "output_type": "stream",
     "text": [
      "Combined 8 files into combined_labs.py\n"
     ]
    }
   ],
   "source": [
    "import os\n",
    "\n",
    "# Set the directory where your .py files are located\n",
    "source_directory = 'labs/'\n",
    "output_file = 'combined_labs.py'\n",
    "\n",
    "# Get all .py files in the folder, excluding the output file if it exists\n",
    "py_files = [f for f in os.listdir(source_directory)\n",
    "            if f.endswith('.py') and f != output_file]\n",
    "py_files.sort()  # Optional: sort files alphabetically\n",
    "\n",
    "# Combine them into one file\n",
    "with open(output_file, 'w', encoding='utf-8') as outfile:\n",
    "    for filename in py_files:\n",
    "        file_path = os.path.join(source_directory, filename)\n",
    "        with open(file_path, 'r', encoding='utf-8') as infile:\n",
    "            outfile.write(f\"# ===== File: {filename} =====\\n\")\n",
    "            outfile.write(infile.read())\n",
    "            outfile.write('\\n\\n')  # Add some spacing between files\n",
    "\n",
    "print(f\"Combined {len(py_files)} files into {output_file}\")\n"
   ]
  },
  {
   "cell_type": "code",
   "execution_count": null,
   "id": "5717a672-b3c4-4c25-8198-bf370e58d7f2",
   "metadata": {},
   "outputs": [],
   "source": []
  }
 ],
 "metadata": {
  "kernelspec": {
   "display_name": "Python 3 (ipykernel)",
   "language": "python",
   "name": "python3"
  },
  "language_info": {
   "codemirror_mode": {
    "name": "ipython",
    "version": 3
   },
   "file_extension": ".py",
   "mimetype": "text/x-python",
   "name": "python",
   "nbconvert_exporter": "python",
   "pygments_lexer": "ipython3",
   "version": "3.13.1"
  }
 },
 "nbformat": 4,
 "nbformat_minor": 5
}
