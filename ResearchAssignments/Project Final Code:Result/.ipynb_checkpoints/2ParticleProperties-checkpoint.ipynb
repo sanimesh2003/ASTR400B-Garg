{
 "cells": [
  {
   "cell_type": "code",
   "execution_count": 1,
   "id": "ada1a3b1-edf2-4b18-8575-d15397bd31e7",
   "metadata": {},
   "outputs": [],
   "source": [
    "import numpy as np  # For numerical operations\n",
    "import astropy.units as u  # For handling units (kpc, km/s, M_sun)\n",
    "from ReadFile import Read  # Import the `Read` function from `ReadFile.py`"
   ]
  },
  {
   "cell_type": "code",
   "execution_count": 2,
   "id": "78925dbd-f765-4a67-8640-84ae29d0f9a3",
   "metadata": {},
   "outputs": [
    {
     "name": "stdout",
     "output_type": "stream",
     "text": [
      "Distance (kpc): 18.654\n",
      "Velocity (km/s): 210.318\n",
      "Mass (M_sun): 1000000.0\n"
     ]
    }
   ],
   "source": [
    "\"\"\"\n",
    "ParticleProperties.py\n",
    "This script defines the `ParticleInfo` function, which calculates properties of a specific particle\n",
    "(distance, velocity, and mass) for a given particle type and number, using data read by `ReadFile`.\n",
    "\"\"\"\n",
    "\n",
    "# Define the ParticleInfo function\n",
    "def ParticleInfo(filename, particle_type, particle_number):\n",
    "    \"\"\"\n",
    "    Function to calculate the distance, velocity, and mass of a specific particle.\n",
    "\n",
    "    Parameters:\n",
    "        filename (str): Path to the data file (e.g., MW_000.txt).\n",
    "        particle_type (int): Particle type (1 = Dark Matter, 2 = Disk Stars, 3 = Bulge Stars).\n",
    "        particle_number (int): Index of the particle within the specified type.\n",
    "\n",
    "    Returns:\n",
    "        distance (float): Magnitude of the 3D distance in kpc, rounded to 3 decimal places.\n",
    "        velocity (float): Magnitude of the 3D velocity in km/s, rounded to 3 decimal places.\n",
    "        mass (float): Mass of the particle in units of solar mass (M_sun).\n",
    "    \"\"\"\n",
    "\n",
    "    time, total_particles, data = Read(filename)\n",
    "    \"\"\"\n",
    "    The \"Read\" function returns:\n",
    "    - \"time\": Time in Myr from the first row of the file.\n",
    "    - \"total_particles\": Total number of particles in the file.\n",
    "    - \"data\": A structured array with columns for particle properties (type, mass, position, velocity).\n",
    "    \"\"\"\n",
    "\n",
    "    index = np.where(data['type'] == particle_type)  # Filter data to match the given particle type\n",
    "    \"\"\"\n",
    "    The \"np.where\" function returns the indices of rows in \"data\" where 'type' matches the \"particle_type\".\n",
    "    For example, if particle_type = 2 (Disk Stars), \"index\" contains the indices of all disk stars.\n",
    "    \"\"\"\n",
    "\n",
    "    # Extract the position (x, y, z) of the specified particle and assign units of kpc\n",
    "    x = data['x'][index][particle_number] * u.kpc  # x-coordinate of the particle\n",
    "    y = data['y'][index][particle_number] * u.kpc  # y-coordinate of the particle\n",
    "    z = data['z'][index][particle_number] * u.kpc  # z-coordinate of the particle\n",
    "\n",
    "    # Extract the velocity (vx, vy, vz) of the specified particle and assign units of km/s\n",
    "    vx = data['vx'][index][particle_number] * u.km / u.s  # x-component of velocity\n",
    "    vy = data['vy'][index][particle_number] * u.km / u.s  # y-component of velocity\n",
    "    vz = data['vz'][index][particle_number] * u.km / u.s  # z-component of velocity\n",
    "\n",
    "    # Extract the mass of the specified particle and convert it to units of solar mass (M_sun)\n",
    "    mass = data['m'][index][particle_number] * 1e10 * u.M_sun  # Mass in solar masses\n",
    "    \"\"\"\n",
    "    The mass values in the file are stored in units of 10^10 M_sun. To convert them to solar masses,\n",
    "    multiply by 10^10 and assign the unit `u.M_sun`.\n",
    "    \"\"\"\n",
    "\n",
    "    # Calculate the magnitude of the distance (3D distance) in kpc\n",
    "    distance = np.sqrt(x**2 + y**2 + z**2).to(u.kpc).value  # Convert to kpc and extract the numeric value\n",
    "\n",
    "    # Calculate the magnitude of the velocity (3D velocity) in km/s\n",
    "    velocity = np.sqrt(vx**2 + vy**2 + vz**2).to(u.km / u.s).value  # Convert to km/s and extract the numeric value\n",
    "\n",
    "    # Round the distance and velocity to 3 decimal places\n",
    "    distance = np.around(distance, 3)\n",
    "    velocity = np.around(velocity, 3)\n",
    "\n",
    "    # Return the computed properties\n",
    "    return distance, velocity, mass.value\n",
    "\n",
    "# Testing the function\n",
    "if __name__ == \"__main__\":\n",
    "    \"\"\"\n",
    "    Test block to verify the functionality of the `ParticleInfo` function.\n",
    "    This block will not be executed when the script is imported elsewhere.\n",
    "    \"\"\"\n",
    "    # Example particle specifications\n",
    "    filename = \"MW_000.txt\"  \n",
    "    particle_type = 2  # Disk Stars\n",
    "    particle_number = 0  # First particle of the specified type\n",
    "\n",
    "    # Call the function to calculate particle properties\n",
    "    distance, velocity, mass = ParticleInfo(filename, particle_type, particle_number)\n",
    "\n",
    "    # Print the results for verification\n",
    "    print(\"Distance (kpc):\", distance)  # 3D distance of the particle in kpc\n",
    "    print(\"Velocity (km/s):\", velocity)  # 3D velocity of the particle in km/s\n",
    "    print(\"Mass (M_sun):\", mass)  # Mass of the particle in solar masses"
   ]
  },
  {
   "cell_type": "code",
   "execution_count": 5,
   "id": "e944b5ae-af7e-44a8-af19-498e04f3a5db",
   "metadata": {},
   "outputs": [
    {
     "name": "stdout",
     "output_type": "stream",
     "text": [
      "3D Distance (kpc): 4.245\n",
      "3D Velocity (km/s): 312.135\n",
      "Mass (M_sun): 1000000.0\n",
      "3D Distance (light-years): 13845.338\n"
     ]
    }
   ],
   "source": [
    "# Part 5 of the Homework - Done within the script here itself\n",
    "\n",
    "# Define the parameters for the particle\n",
    "filename = \"MW_000.txt\"  # File containing particle data (replace with the correct path if needed)\n",
    "particle_type = 2  # Particle type: 2 corresponds to Disk Stars\n",
    "particle_number = 99  # Index of the 100th particle (indexing starts from 0)\n",
    "\n",
    "# Get the properties of the specified particle\n",
    "distance, velocity, mass = ParticleInfo(filename, particle_type, particle_number)\n",
    "\"\"\"\n",
    "The \"ParticleInfo\" function calculates:\n",
    "- \"distance\": The 3D distance of the particle in kpc.\n",
    "- \"velocity\": The 3D velocity of the particle in km/s.\n",
    "- \"mass\": The mass of the particle in solar masses (M_sun).\n",
    "\"\"\"\n",
    "\n",
    "# Convert the 3D distance from kpc to light-years\n",
    "distance_ly = (distance * u.kpc).to(u.lyr).value  # Convert from kiloparsecs to light-years\n",
    "distance_ly = np.around(distance_ly, 3)  # Round the value to 3 decimal places for clarity\n",
    "\n",
    "# Print the calculated properties of the particle\n",
    "print(f\"3D Distance (kpc): {distance}\")  # Print the distance in kpc\n",
    "print(f\"3D Velocity (km/s): {velocity}\")  # Print the velocity in km/s\n",
    "print(f\"Mass (M_sun): {mass}\")  # Print the mass in solar masses\n",
    "print(f\"3D Distance (light-years): {distance_ly}\")  # Print the distance in light-years\n"
   ]
  },
  {
   "cell_type": "code",
   "execution_count": 1,
   "id": "e0c80de2-ae29-4af7-bb98-102c5eb5d9af",
   "metadata": {},
   "outputs": [
    {
     "name": "stdout",
     "output_type": "stream",
     "text": [
      "[NbConvertApp] Converting notebook 2ParticleProperties.ipynb to html\n",
      "[NbConvertApp] Writing 288339 bytes to 2ParticleProperties.html\n"
     ]
    }
   ],
   "source": [
    "import os\n",
    "\n",
    "html_file = \"2ParticleProperties.html\"\n",
    "ipynb_file = \"2ParticleProperties.ipynb\"\n",
    "\n",
    "# Delete old HTML if it exists\n",
    "if os.path.exists(html_file):\n",
    "    os.remove(html_file)\n",
    "\n",
    "# Convert notebook to HTML\n",
    "!jupyter nbconvert --to html \"{ipynb_file}\""
   ]
  },
  {
   "cell_type": "code",
   "execution_count": null,
   "id": "4bded5e2-7841-433e-a926-ecfdcee07d13",
   "metadata": {},
   "outputs": [],
   "source": []
  }
 ],
 "metadata": {
  "kernelspec": {
   "display_name": "Python 3 (ipykernel)",
   "language": "python",
   "name": "python3"
  },
  "language_info": {
   "codemirror_mode": {
    "name": "ipython",
    "version": 3
   },
   "file_extension": ".py",
   "mimetype": "text/x-python",
   "name": "python",
   "nbconvert_exporter": "python",
   "pygments_lexer": "ipython3",
   "version": "3.13.1"
  }
 },
 "nbformat": 4,
 "nbformat_minor": 5
}
