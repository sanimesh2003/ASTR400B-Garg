{
 "cells": [
  {
   "cell_type": "code",
   "execution_count": 1,
   "metadata": {},
   "outputs": [],
   "source": [
    "# Homework 4\n",
    "# Center of Mass Position and Velocity\n",
    "# Animesh Garg"
   ]
  },
  {
   "cell_type": "code",
   "execution_count": 2,
   "metadata": {},
   "outputs": [],
   "source": [
    "# remember this is just a template,\n",
    "# you don't need to follow every step.\n",
    "# If you have your own method to solve the homework,\n",
    "# it is totally fine"
   ]
  },
  {
   "cell_type": "code",
   "execution_count": 3,
   "metadata": {
    "ExecuteTime": {
     "end_time": "2020-02-04T23:59:21.657237Z",
     "start_time": "2020-02-04T23:59:21.653687Z"
    }
   },
   "outputs": [],
   "source": [
    "# import modules\n",
    "import numpy as np\n",
    "import astropy.units as u\n",
    "import astropy.table as tbl\n",
    "\n",
    "from ReadFile import Read"
   ]
  },
  {
   "cell_type": "code",
   "execution_count": 4,
   "metadata": {
    "ExecuteTime": {
     "end_time": "2020-02-04T23:59:24.003059Z",
     "start_time": "2020-02-04T23:59:23.979271Z"
    }
   },
   "outputs": [],
   "source": [
    "import numpy as np\n",
    "import astropy.units as u\n",
    "\n",
    "# Make sure you import the Read function (and possibly other needed packages) at the top\n",
    "# from ReadFile import Read\n",
    "\n",
    "class CenterOfMass:\n",
    "    # Class to define COM position and velocity properties of a given galaxy and simulation snapshot\n",
    "    \n",
    "    def __init__(self, filename, ptype):\n",
    "        ''' \n",
    "        Class to calculate the 6-D phase-space center of mass of a galaxy \n",
    "        using a specified particle type.\n",
    "        \n",
    "        PARAMETERS\n",
    "        ----------\n",
    "        filename : str\n",
    "            Snapshot file name (e.g., 'MW_000.txt')\n",
    "        ptype : int\n",
    "            Particle type (1=Halo, 2=Disk, 3=Bulge) for which to compute COM\n",
    "        '''\n",
    "     \n",
    "        # 1) Read data in the given file using Read\n",
    "        self.time, self.total, self.data = Read(filename)  \n",
    "        \n",
    "        # 2) Create an index array to store indices of particles of the desired Ptype\n",
    "        self.index = np.where(self.data['type'] == ptype)\n",
    "        \n",
    "        # 3) Store the mass, positions, velocities of only the particles of the given type\n",
    "        self.m = self.data['m'][self.index]          # masses\n",
    "        self.x = self.data['x'][self.index]          # x-positions\n",
    "        self.y = self.data['y'][self.index]          # y-positions\n",
    "        self.z = self.data['z'][self.index]          # z-positions\n",
    "        self.vx = self.data['vx'][self.index]        # x-velocities\n",
    "        self.vy = self.data['vy'][self.index]        # y-velocities\n",
    "        self.vz = self.data['vz'][self.index]        # z-velocities\n",
    "\n",
    "\n",
    "    def COMdefine(self, a, b, c, m):\n",
    "        '''\n",
    "        Method to compute the generic center of mass (COM) of a given vector\n",
    "        quantity (e.g., position or velocity) by direct weighted averaging.\n",
    "        \n",
    "        PARAMETERS\n",
    "        ----------\n",
    "        a : float or np.ndarray\n",
    "            first component array (e.g., x or vx)\n",
    "        b : float or np.ndarray\n",
    "            second component array (e.g., y or vy)\n",
    "        c : float or np.ndarray\n",
    "            third component array (e.g., z or vz)\n",
    "        m : float or np.ndarray\n",
    "            array of particle masses\n",
    "        \n",
    "        RETURNS\n",
    "        -------\n",
    "        a_com : float\n",
    "            COM of the first component\n",
    "        b_com : float\n",
    "            COM of the second component\n",
    "        c_com : float\n",
    "            COM of the third component\n",
    "        '''\n",
    "        \n",
    "        # Weighted sum in each dimension\n",
    "        a_com = np.sum(a * m) / np.sum(m)\n",
    "        b_com = np.sum(b * m) / np.sum(m)\n",
    "        c_com = np.sum(c * m) / np.sum(m)\n",
    "\n",
    "        return a_com, b_com, c_com\n",
    "\n",
    "\n",
    "    def COM_P(self, delta=0.1):\n",
    "        '''\n",
    "        Method to compute the position of the center of mass of the galaxy \n",
    "        using the shrinking-sphere method, iterating until convergence.\n",
    "        \n",
    "        PARAMETERS\n",
    "        ----------\n",
    "        delta : float, optional\n",
    "            Error tolerance in kpc for stopping criterion. Default = 0.1 kpc\n",
    "        \n",
    "        RETURNS\n",
    "        -------\n",
    "        p_COM : np.ndarray of astropy.Quantity\n",
    "            3-D position of the center of mass in kpc (rounded to 2 decimals)\n",
    "        '''\n",
    "        \n",
    "        # 1) First guess at COM position using all particles\n",
    "        x_COM, y_COM, z_COM = self.COMdefine(self.x, self.y, self.z, self.m)\n",
    "        \n",
    "        # 2) Compute the magnitude of the COM position vector\n",
    "        r_COM = np.sqrt(x_COM**2 + y_COM**2 + z_COM**2)\n",
    "        \n",
    "        # 3) Shift to COM frame (for the *initial* guess)\n",
    "        x_new = self.x - x_COM\n",
    "        y_new = self.y - y_COM\n",
    "        z_new = self.z - z_COM\n",
    "        r_new = np.sqrt(x_new**2 + y_new**2 + z_new**2)\n",
    "        \n",
    "        # 4) Find the maximum 3D distance from this COM, then halve it\n",
    "        r_max = np.max(r_new) / 2.0\n",
    "        \n",
    "        # 5) Set an initial change to be very large (so loop starts)\n",
    "        change = 1000.0\n",
    "        \n",
    "        # 6) Iteratively refine until the COM position changes by less than delta\n",
    "        while (change > delta):\n",
    "            \n",
    "            # Select particles within the reduced radius from the ORIGINAL positions,\n",
    "            # but recentered around the last COM guess\n",
    "            x_new = self.x - x_COM\n",
    "            y_new = self.y - y_COM\n",
    "            z_new = self.z - z_COM\n",
    "            r_new = np.sqrt(x_new**2 + y_new**2 + z_new**2)\n",
    "            \n",
    "            index2 = np.where(r_new < r_max)\n",
    "            \n",
    "            # Retrieve only those particles\n",
    "            x2 = self.x[index2]\n",
    "            y2 = self.y[index2]\n",
    "            z2 = self.z[index2]\n",
    "            m2 = self.m[index2]\n",
    "            \n",
    "            # Recompute COM with these \"in-sphere\" particles\n",
    "            x_COM2, y_COM2, z_COM2 = self.COMdefine(x2, y2, z2, m2)\n",
    "            r_COM2 = np.sqrt(x_COM2**2 + y_COM2**2 + z_COM2**2)\n",
    "            \n",
    "            # Check how much COM changed from previous iteration\n",
    "            change = np.abs(r_COM - r_COM2)\n",
    "            # print(\"CHANGE = \", change)\n",
    "            \n",
    "            # Halve the radius again for the next iteration\n",
    "            r_max /= 2.0\n",
    "            \n",
    "            # Reset COM values to the newly computed values for next loop\n",
    "            x_COM = x_COM2\n",
    "            y_COM = y_COM2\n",
    "            z_COM = z_COM2\n",
    "            r_COM = r_COM2\n",
    "        \n",
    "        # Once convergence is reached:\n",
    "        p_COM = np.array([x_COM, y_COM, z_COM]) * u.kpc\n",
    "        # Round to 2 decimal places\n",
    "        p_COM = np.round(p_COM, 2)\n",
    "        \n",
    "        return p_COM\n",
    "\n",
    "\n",
    "    def COM_V(self, x_COM, y_COM, z_COM):\n",
    "        '''\n",
    "        Method to compute the center of mass velocity based on the center of mass position.\n",
    "        \n",
    "        PARAMETERS\n",
    "        ----------\n",
    "        x_COM : astropy.Quantity\n",
    "            The x component of the COM in kpc\n",
    "        y_COM : astropy.Quantity\n",
    "            The y component of the COM in kpc\n",
    "        z_COM : astropy.Quantity\n",
    "            The z component of the COM in kpc\n",
    "            \n",
    "        RETURNS\n",
    "        -------\n",
    "        v_COM : np.ndarray of astropy.Quantity\n",
    "            3-D velocity of the center of mass in km/s (rounded to 2 decimals)\n",
    "        '''\n",
    "        \n",
    "        # Maximum distance from the center to consider when computing COM velocity\n",
    "        rv_max = 15.0 * u.kpc\n",
    "        \n",
    "        # Convert COM to \"raw\" floats if needed\n",
    "        # (Assuming self.x etc. are in kpc, we can handle them directly)\n",
    "        xC = x_COM.value\n",
    "        yC = y_COM.value\n",
    "        zC = z_COM.value\n",
    "        \n",
    "        # Determine positions relative to the COM\n",
    "        xV = self.x - xC\n",
    "        yV = self.y - yC\n",
    "        zV = self.z - zC\n",
    "        \n",
    "        # 3D distance of each particle from COM\n",
    "        rV = np.sqrt(xV**2 + yV**2 + zV**2)\n",
    "        \n",
    "        # Select those particles within rv_max\n",
    "        indexV = np.where(rV < rv_max.value)\n",
    "        \n",
    "        # Retrieve velocities for those particles\n",
    "        vx_new = self.vx[indexV]\n",
    "        vy_new = self.vy[indexV]\n",
    "        vz_new = self.vz[indexV]\n",
    "        m_new  = self.m[indexV]\n",
    "        \n",
    "        # Compute COM velocity\n",
    "        vx_COM, vy_COM, vz_COM = self.COMdefine(vx_new, vy_new, vz_new, m_new)\n",
    "        \n",
    "        # Create an array for the COM velocity and convert to astropy with km/s\n",
    "        v_COM = np.array([vx_COM, vy_COM, vz_COM]) * u.km/u.s\n",
    "        # Round to 2 decimal places\n",
    "        v_COM = np.round(v_COM, 2)\n",
    "        \n",
    "        return v_COM\n"
   ]
  },
  {
   "cell_type": "code",
   "execution_count": 5,
   "metadata": {
    "ExecuteTime": {
     "end_time": "2020-02-04T23:59:30.160978Z",
     "start_time": "2020-02-04T23:59:26.220455Z"
    }
   },
   "outputs": [],
   "source": [
    "# Create a Center of Mass object for the MW, M31, and M33.\n",
    "# Example using particle type 2 (disk).\n",
    "\n",
    "MW_COM = CenterOfMass(\"MW_000.txt\", 2)\n",
    "M31_COM = CenterOfMass(\"M31_000.txt\", 2)\n",
    "M33_COM = CenterOfMass(\"M33_000.txt\", 2)\n"
   ]
  },
  {
   "cell_type": "code",
   "execution_count": 6,
   "metadata": {
    "ExecuteTime": {
     "end_time": "2020-02-04T23:59:30.820428Z",
     "start_time": "2020-02-04T23:59:30.761163Z"
    }
   },
   "outputs": [
    {
     "name": "stdout",
     "output_type": "stream",
     "text": [
      "MW COM Position: [-2.07  2.95 -1.45] kpc\n",
      "M31 COM Position: [-377.66  611.43 -284.64] kpc\n",
      "M33 COM Position: [-476.22  491.44 -412.4 ] kpc\n"
     ]
    }
   ],
   "source": [
    "# Compute and print the COM position for each galaxy \n",
    "# using a tolerance of 0.1 kpc.\n",
    "\n",
    "MW_COM_p = MW_COM.COM_P(0.1)\n",
    "print(\"MW COM Position:\", MW_COM_p)\n",
    "\n",
    "M31_COM_p = M31_COM.COM_P(0.1)\n",
    "print(\"M31 COM Position:\", M31_COM_p)\n",
    "\n",
    "M33_COM_p = M33_COM.COM_P(0.1)\n",
    "print(\"M33 COM Position:\", M33_COM_p)\n"
   ]
  },
  {
   "cell_type": "code",
   "execution_count": 7,
   "metadata": {},
   "outputs": [
    {
     "name": "stdout",
     "output_type": "stream",
     "text": [
      "MW COM Velocity: [ 0.94  6.32 -1.35] km / s\n",
      "M31 COM Velocity: [ 72.85 -72.14  49.  ] km / s\n",
      "M33 COM Velocity: [ 44.42 101.78 142.23] km / s\n"
     ]
    }
   ],
   "source": [
    "# Compute and print the COM velocity for each galaxy \n",
    "# based on the COM position previously calculated.\n",
    "\n",
    "MW_COM_v = MW_COM.COM_V(MW_COM_p[0], MW_COM_p[1], MW_COM_p[2])\n",
    "print(\"MW COM Velocity:\", MW_COM_v)\n",
    "\n",
    "M31_COM_v = M31_COM.COM_V(M31_COM_p[0], M31_COM_p[1], M31_COM_p[2])\n",
    "print(\"M31 COM Velocity:\", M31_COM_v)\n",
    "\n",
    "M33_COM_v = M33_COM.COM_V(M33_COM_p[0], M33_COM_p[1], M33_COM_p[2])\n",
    "print(\"M33 COM Velocity:\", M33_COM_v)\n"
   ]
  },
  {
   "cell_type": "code",
   "execution_count": 8,
   "metadata": {},
   "outputs": [
    {
     "name": "stdout",
     "output_type": "stream",
     "text": [
      "Separation MW-M31 (kpc): 769.098 kpc\n",
      "Relative velocity MW-M31 (km/s): 117.738 km / s\n",
      "Separation M31-M33 (kpc): 201.083 kpc\n",
      "Relative velocity M31-M33 (km/s): 199.370 km / s\n"
     ]
    }
   ],
   "source": [
    "# (Optional) Additional cell: compute separations and relative velocities\n",
    "\n",
    "# Separation between MW and M31\n",
    "diff_pos_MW_M31 = MW_COM_p - M31_COM_p\n",
    "sep_MW_M31 = np.sqrt(diff_pos_MW_M31[0]**2 + diff_pos_MW_M31[1]**2 + diff_pos_MW_M31[2]**2)\n",
    "print(f\"Separation MW-M31 (kpc): {sep_MW_M31:.3f}\")\n",
    "\n",
    "# Relative velocity between MW and M31\n",
    "diff_vel_MW_M31 = MW_COM_v - M31_COM_v\n",
    "rel_vel_MW_M31 = np.sqrt(diff_vel_MW_M31[0]**2 + diff_vel_MW_M31[1]**2 + diff_vel_MW_M31[2]**2)\n",
    "print(f\"Relative velocity MW-M31 (km/s): {rel_vel_MW_M31:.3f}\")\n",
    "\n",
    "# Repeat for M31-M33\n",
    "diff_pos_M31_M33 = M31_COM_p - M33_COM_p\n",
    "sep_M31_M33 = np.sqrt(diff_pos_M31_M33[0]**2 + diff_pos_M31_M33[1]**2 + diff_pos_M31_M33[2]**2)\n",
    "print(f\"Separation M31-M33 (kpc): {sep_M31_M33:.3f}\")\n",
    "\n",
    "diff_vel_M31_M33 = M31_COM_v - M33_COM_v\n",
    "rel_vel_M31_M33 = np.sqrt(diff_vel_M31_M33[0]**2 + diff_vel_M31_M33[1]**2 + diff_vel_M31_M33[2]**2)\n",
    "print(f\"Relative velocity M31-M33 (km/s): {rel_vel_M31_M33:.3f}\")\n"
   ]
  },
  {
   "cell_type": "markdown",
   "metadata": {},
   "source": [
    "**question:**\n",
    "Given that M31 and the MW are about to merge, why is the iterative process to determine the COM is important?\n",
    "\n",
    "**answer:** \n",
    "The iterative process is crucial for determining the COM in merging galaxies like MW and M31 because their mass distributions are complex and\n",
    "constantly shifting due to gravitational interactions. A simple weighted average of positions could be skewed by distant, loosely bound particles, \n",
    "leading to an inaccurate COM.  \n",
    "\n",
    "By iteratively refining the COM calculation, the method focuses on the densest and most gravitationally dominant region of the galaxy, filtering \n",
    "out external influences like tidal debris. This ensures that the COM accurately represents the system's core, even as the galaxies move toward merging."
   ]
  },
  {
   "cell_type": "code",
   "execution_count": 1,
   "metadata": {},
   "outputs": [
    {
     "name": "stdout",
     "output_type": "stream",
     "text": [
      "[NbConvertApp] Converting notebook 4CenterOfMass.ipynb to html\n",
      "[NbConvertApp] Writing 311788 bytes to 4CenterOfMass.html\n"
     ]
    }
   ],
   "source": [
    "import os\n",
    "\n",
    "html_file = \"4CenterOfMass.html\"\n",
    "ipynb_file = \"4CenterOfMass.ipynb\"\n",
    "\n",
    "# Delete old HTML if it exists\n",
    "if os.path.exists(html_file):\n",
    "    os.remove(html_file)\n",
    "\n",
    "# Convert notebook to HTML\n",
    "!jupyter nbconvert --to html \"{ipynb_file}\""
   ]
  },
  {
   "cell_type": "code",
   "execution_count": null,
   "metadata": {},
   "outputs": [],
   "source": []
  }
 ],
 "metadata": {
  "kernelspec": {
   "display_name": "Python 3 (ipykernel)",
   "language": "python",
   "name": "python3"
  },
  "language_info": {
   "codemirror_mode": {
    "name": "ipython",
    "version": 3
   },
   "file_extension": ".py",
   "mimetype": "text/x-python",
   "name": "python",
   "nbconvert_exporter": "python",
   "pygments_lexer": "ipython3",
   "version": "3.13.1"
  },
  "varInspector": {
   "cols": {
    "lenName": 16,
    "lenType": 16,
    "lenVar": 40
   },
   "kernels_config": {
    "python": {
     "delete_cmd_postfix": "",
     "delete_cmd_prefix": "del ",
     "library": "var_list.py",
     "varRefreshCmd": "print(var_dic_list())"
    },
    "r": {
     "delete_cmd_postfix": ") ",
     "delete_cmd_prefix": "rm(",
     "library": "var_list.r",
     "varRefreshCmd": "cat(var_dic_list()) "
    }
   },
   "types_to_exclude": [
    "module",
    "function",
    "builtin_function_or_method",
    "instance",
    "_Feature"
   ],
   "window_display": false
  }
 },
 "nbformat": 4,
 "nbformat_minor": 4
}
