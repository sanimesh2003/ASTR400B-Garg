{
 "cells": [
  {
   "cell_type": "code",
   "execution_count": 7,
   "id": "9d95cfcf-7719-4dda-9337-f49adaf2196a",
   "metadata": {},
   "outputs": [
    {
     "name": "stdout",
     "output_type": "stream",
     "text": [
      "Halo Mass (10^12 solar masses): 1.975\n",
      "Disk Mass (10^12 solar masses): 0.075\n",
      "Bulge Mass (10^12 solar masses): 0.01\n"
     ]
    }
   ],
   "source": [
    "\"\"\"\n",
    "GalaxyMass.py\n",
    "This script contains the `ComponentMass` function, which calculates the total mass \n",
    "of a specified galaxy component (Halo, Disk, or Bulge) using data from a file.\n",
    "\"\"\"\n",
    "\n",
    "# Import necessary modules\n",
    "import numpy as np  # For numerical calculations\n",
    "from ReadFile import Read  # Import Read function from Homework 2\n",
    "\n",
    "def ComponentMass(filename, particle_type):\n",
    "    \"\"\"\n",
    "    Function to compute the total mass of a given galaxy component.\n",
    "\n",
    "    Parameters:\n",
    "        filename (str): The name of the data file (e.g., \"MW_000.txt\").\n",
    "        particle_type (int): The type of particle (1 = Halo, 2 = Disk, 3 = Bulge).\n",
    "\n",
    "    Returns:\n",
    "        float: Total mass of the component in units of 10^12 solar masses, rounded to 3 decimal places.\n",
    "    \"\"\"\n",
    "    # Read the data file\n",
    "    time, total_particles, data = Read(filename)\n",
    "\n",
    "    # Filter particles of the given type\n",
    "    index = np.where(data['type'] == particle_type)  # Get indices for the selected particle type\n",
    "    mass = np.sum(data['m'][index])  # Sum the mass of selected particles\n",
    "\n",
    "    # Convert mass from 10^10 solar masses to 10^12 solar masses\n",
    "    mass = mass * 1e-2  \n",
    "\n",
    "    # Round to 3 decimal places\n",
    "    return np.round(mass, 3)\n",
    "\n",
    "# Testing the function\n",
    "if __name__ == \"__main__\":\n",
    "    filename = \"MW_000.txt\"  # Data file\n",
    "    halo_mass = ComponentMass(filename, 1)  # Compute Halo mass\n",
    "    disk_mass = ComponentMass(filename, 2)  # Compute Disk mass\n",
    "    bulge_mass = ComponentMass(filename, 3)  # Compute Bulge mass\n",
    "\n",
    "    # Print the results\n",
    "    print(f\"Halo Mass (10^12 solar masses): {halo_mass}\")\n",
    "    print(f\"Disk Mass (10^12 solar masses): {disk_mass}\")\n",
    "    print(f\"Bulge Mass (10^12 solar masses): {bulge_mass}\")\n"
   ]
  },
  {
   "cell_type": "code",
   "execution_count": 8,
   "id": "fb2f298d-56fb-4147-8206-a13ef31ea9a7",
   "metadata": {},
   "outputs": [
    {
     "name": "stdout",
     "output_type": "stream",
     "text": [
      "        Galaxy Halo Mass (10^12) Disk Mass (10^12) Bulge Mass (10^12)  \\\n",
      "0           MW             1.975             0.075               0.01   \n",
      "1          M31             1.921              0.12              0.019   \n",
      "2          M33             0.187             0.009                0.0   \n",
      "3  Local Group                 -                 -                  -   \n",
      "\n",
      "   Total Mass (10^12)   fbar  \n",
      "0               2.060  0.041  \n",
      "1               2.060  0.067  \n",
      "2               0.196  0.046  \n",
      "3               4.316  0.054  \n",
      "Table saved as LocalGroupMass.csv and LocalGroupMass.tex\n"
     ]
    }
   ],
   "source": [
    "\"\"\"\n",
    "LocalGroupMass.py\n",
    "This script calculates the mass breakdown of the Local Group galaxies (MW, M31, M33).\n",
    "It organizes the data into a table and computes fbar for each galaxy and the entire Local Group.\n",
    "\"\"\"\n",
    "\n",
    "# Import necessary modules\n",
    "import numpy as np  # For numerical calculations\n",
    "import pandas as pd  # For organizing data into tables\n",
    "from GalaxyMass import ComponentMass  # Import the ComponentMass function\n",
    "\n",
    "# Define the filenames for each galaxy\n",
    "galaxies = {\n",
    "    \"MW\": \"MW_000.txt\",\n",
    "    \"M31\": \"M31_000.txt\",\n",
    "    \"M33\": \"M33_000.txt\"\n",
    "}\n",
    "\n",
    "# Initialize an empty list to store mass results\n",
    "mass_results = []\n",
    "\n",
    "# Loop through each galaxy and compute the masses\n",
    "for galaxy, filename in galaxies.items():\n",
    "    halo_mass = ComponentMass(filename, 1)  # Halo mass\n",
    "    disk_mass = ComponentMass(filename, 2)  # Disk mass\n",
    "\n",
    "    # M33 does not have a bulge, so set bulge mass to 0\n",
    "    bulge_mass = ComponentMass(filename, 3) if galaxy != \"M33\" else 0\n",
    "\n",
    "    # Compute the total mass of the galaxy\n",
    "    total_mass = halo_mass + disk_mass + bulge_mass\n",
    "\n",
    "    # Compute baryon fraction fbar\n",
    "    fbar = (disk_mass + bulge_mass) / total_mass\n",
    "\n",
    "    # Store results in the list\n",
    "    mass_results.append([galaxy, halo_mass, disk_mass, bulge_mass, total_mass, np.round(fbar, 3)])\n",
    "\n",
    "# Convert the results into a Pandas DataFrame\n",
    "columns = [\"Galaxy\", \"Halo Mass (10^12)\", \"Disk Mass (10^12)\", \"Bulge Mass (10^12)\", \"Total Mass (10^12)\", \"fbar\"]\n",
    "mass_table = pd.DataFrame(mass_results, columns=columns)\n",
    "\n",
    "# Compute the total mass of the Local Group\n",
    "local_group_mass = mass_table[\"Total Mass (10^12)\"].sum()\n",
    "\n",
    "# Compute the Local Group baryon fraction\n",
    "total_stellar_mass = mass_table[\"Disk Mass (10^12)\"].sum() + mass_table[\"Bulge Mass (10^12)\"].sum()\n",
    "fbar_local_group = total_stellar_mass / local_group_mass\n",
    "\n",
    "# Append Local Group totals to the table\n",
    "mass_table.loc[len(mass_table.index)] = [\"Local Group\", \"-\", \"-\", \"-\", local_group_mass, np.round(fbar_local_group, 3)]\n",
    "\n",
    "# Display the table\n",
    "print(mass_table)\n",
    "\n",
    "# Save the table as a PDF\n",
    "mass_table.to_csv(\"LocalGroupMass.csv\", index=False)  # Save as CSV first\n",
    "\n",
    "# Convert CSV to PDF using LaTeX (Bonus Points), \n",
    "# I would do this directly in python but for whatever reason I can't get mactext to install correctly\n",
    "latex_code = mass_table.to_latex(index=False)\n",
    "\n",
    "with open(\"LocalGroupMass.tex\", \"w\") as f:\n",
    "    f.write(latex_code)\n",
    "\n",
    "print(\"Table saved as LocalGroupMass.csv and LocalGroupMass.tex\")\n"
   ]
  },
  {
   "cell_type": "code",
   "execution_count": 1,
   "id": "6abf7185-5869-4715-a1a2-9c44ac3e7f99",
   "metadata": {},
   "outputs": [
    {
     "name": "stdout",
     "output_type": "stream",
     "text": [
      "[NbConvertApp] Converting notebook 3GalaxyMass.ipynb to html\n",
      "[NbConvertApp] Writing 285818 bytes to 3GalaxyMass.html\n"
     ]
    }
   ],
   "source": [
    "import os\n",
    "\n",
    "html_file = \"3GalaxyMass.html\"\n",
    "ipynb_file = \"3GalaxyMass.ipynb\"\n",
    "\n",
    "# Delete old HTML if it exists\n",
    "if os.path.exists(html_file):\n",
    "    os.remove(html_file)\n",
    "\n",
    "# Convert notebook to HTML\n",
    "!jupyter nbconvert --to html \"{ipynb_file}\""
   ]
  },
  {
   "cell_type": "code",
   "execution_count": null,
   "id": "1fa300dd-a9d5-4019-b31c-9e8a45a4a0df",
   "metadata": {},
   "outputs": [],
   "source": []
  }
 ],
 "metadata": {
  "kernelspec": {
   "display_name": "Python 3 (ipykernel)",
   "language": "python",
   "name": "python3"
  },
  "language_info": {
   "codemirror_mode": {
    "name": "ipython",
    "version": 3
   },
   "file_extension": ".py",
   "mimetype": "text/x-python",
   "name": "python",
   "nbconvert_exporter": "python",
   "pygments_lexer": "ipython3",
   "version": "3.13.1"
  }
 },
 "nbformat": 4,
 "nbformat_minor": 5
}
