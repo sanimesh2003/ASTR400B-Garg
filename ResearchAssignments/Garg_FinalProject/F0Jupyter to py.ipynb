{
 "cells": [
  {
   "cell_type": "code",
   "execution_count": 1,
   "id": "55e04740-9d9c-4e54-b835-45c27a845837",
   "metadata": {},
   "outputs": [
    {
     "name": "stdout",
     "output_type": "stream",
     "text": [
      "✅ Code extracted and saved to: fig2.py\n"
     ]
    }
   ],
   "source": [
    "import json\n",
    "\n",
    "def extract_code_from_notebook(notebook_path, output_code_path=None):\n",
    "    \"\"\"\n",
    "    Reads a Jupyter Notebook and extracts all lines of code from code cells, \n",
    "    adding a blank line between cells for better readability.\n",
    "    \n",
    "    Parameters:\n",
    "        notebook_path (str): Path to the .ipynb notebook file.\n",
    "        output_code_path (str, optional): Output file path to save the extracted code. \n",
    "                                          Defaults to notebook_name.py.\n",
    "    \n",
    "    Returns:\n",
    "        None\n",
    "    \"\"\"\n",
    "    # Read the notebook file\n",
    "    try:\n",
    "        with open(notebook_path, \"r\", encoding=\"utf-8\") as file:\n",
    "            notebook_data = json.load(file)\n",
    "    except Exception as e:\n",
    "        print(f\"Error reading notebook: {e}\")\n",
    "        return\n",
    "\n",
    "    # Extract code from code cells\n",
    "    extracted_code = []\n",
    "    \n",
    "    for cell in notebook_data.get(\"cells\", []):\n",
    "        if cell.get(\"cell_type\") == \"code\":  # Only extract code cells\n",
    "            extracted_code.extend(cell.get(\"source\", []))  # Get all lines\n",
    "            extracted_code.append(\"\\n\")  # Add a blank line between cells\n",
    "\n",
    "    if not extracted_code:\n",
    "        print(\"No code cells found in the notebook.\")\n",
    "        return\n",
    "    \n",
    "    # Define output filename if not provided\n",
    "    if output_code_path is None:\n",
    "        output_code_path = notebook_path.replace(\".ipynb\", \".py\")\n",
    "\n",
    "    # Save extracted code to file\n",
    "    with open(output_code_path, \"w\", encoding=\"utf-8\") as code_file:\n",
    "        code_file.writelines(extracted_code)\n",
    "\n",
    "    print(f\"✅ Code extracted and saved to: {output_code_path}\")\n",
    "\n",
    "# Example Usage\n",
    "notebook_file = \"fig2.ipynb\"  # Change this to your notebook file\n",
    "extract_code_from_notebook(notebook_file)\n"
   ]
  },
  {
   "cell_type": "code",
   "execution_count": null,
   "id": "8f17dc08-525e-481c-b7d1-17ee1e6d515f",
   "metadata": {},
   "outputs": [],
   "source": []
  },
  {
   "cell_type": "code",
   "execution_count": null,
   "id": "39cc3099-a7c1-481c-a88d-7ee53b0396da",
   "metadata": {},
   "outputs": [],
   "source": []
  }
 ],
 "metadata": {
  "kernelspec": {
   "display_name": "Python 3 (ipykernel)",
   "language": "python",
   "name": "python3"
  },
  "language_info": {
   "codemirror_mode": {
    "name": "ipython",
    "version": 3
   },
   "file_extension": ".py",
   "mimetype": "text/x-python",
   "name": "python",
   "nbconvert_exporter": "python",
   "pygments_lexer": "ipython3",
   "version": "3.13.1"
  }
 },
 "nbformat": 4,
 "nbformat_minor": 5
}
